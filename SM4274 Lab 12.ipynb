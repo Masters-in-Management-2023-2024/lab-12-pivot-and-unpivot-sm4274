{
  "cells": [
    {
      "cell_type": "markdown",
      "metadata": {
        "id": "cM9u4EkYNUDu"
      },
      "source": [
        "# Lab 12 - Pivoting and unpivoting\n",
        "\n",
        "This lab focuses on data transformation using pivoting and unpivoting operations with the polars library."
      ]
    },
    {
      "cell_type": "markdown",
      "metadata": {
        "id": "tGKqc7i8NUDw"
      },
      "source": [
        "## Load your packages\n",
        "\n",
        "You will need the `polars` package for this assignment. We'll also use `numpy` for some calculations."
      ]
    },
    {
      "cell_type": "code",
      "execution_count": 19,
      "metadata": {
        "id": "1rw0WWS4NUDw"
      },
      "outputs": [],
      "source": [
        "# Import required packages\n",
        "import polars as pl"
      ]
    },
    {
      "cell_type": "markdown",
      "metadata": {
        "id": "WBl7e_D6NUDw"
      },
      "source": [
        "# Question 1: Pivot US Economic Indicator Data"
      ]
    },
    {
      "cell_type": "markdown",
      "metadata": {
        "id": "cGrYXMa0NUDw"
      },
      "source": [
        "## 1a. Pivot data\n",
        "\n",
        "Load the `economics_long.csv` dataset from the `data/` folder. You'll notice that in the `economics_long` dataset's `value` column, there are different types of measurements. Transform this dataset so that the unique values for the `variable` field become columns of their own.\n",
        "\n",
        "**Please write code below to pivot the data. The output should be a DataFrame. You must \"pivot\" the data to receive full credit on this question.**"
      ]
    },
    {
      "cell_type": "code",
      "execution_count": 20,
      "metadata": {
        "colab": {
          "base_uri": "https://localhost:8080/",
          "height": 478
        },
        "id": "EVTJI47JNUDx",
        "outputId": "321f507d-e8c1-411d-e22c-c8cdbaaf9782"
      },
      "outputs": [
        {
          "output_type": "stream",
          "name": "stderr",
          "text": [
            "/tmp/ipython-input-3122067909.py:8: DeprecationWarning: The argument `columns` for `DataFrame.pivot` is deprecated. It has been renamed to `on`.\n",
            "  economics_wide = economics_long.pivot(index=\"date\", columns=\"variable\", values=\"value\")\n"
          ]
        },
        {
          "output_type": "display_data",
          "data": {
            "text/plain": [
              "shape: (574, 6)\n",
              "┌────────────┬─────────┬────────────┬─────────┬─────────┬──────────┐\n",
              "│ date       ┆ pce     ┆ pop        ┆ psavert ┆ uempmed ┆ unemploy │\n",
              "│ ---        ┆ ---     ┆ ---        ┆ ---     ┆ ---     ┆ ---      │\n",
              "│ str        ┆ f64     ┆ f64        ┆ f64     ┆ f64     ┆ f64      │\n",
              "╞════════════╪═════════╪════════════╪═════════╪═════════╪══════════╡\n",
              "│ 1967-07-01 ┆ 506.7   ┆ 198712.0   ┆ 12.6    ┆ 4.5     ┆ 2944.0   │\n",
              "│ 1967-08-01 ┆ 509.8   ┆ 198911.0   ┆ 12.6    ┆ 4.7     ┆ 2945.0   │\n",
              "│ 1967-09-01 ┆ 515.6   ┆ 199113.0   ┆ 11.9    ┆ 4.6     ┆ 2958.0   │\n",
              "│ 1967-10-01 ┆ 512.2   ┆ 199311.0   ┆ 12.9    ┆ 4.9     ┆ 3143.0   │\n",
              "│ 1967-11-01 ┆ 517.4   ┆ 199498.0   ┆ 12.8    ┆ 4.7     ┆ 3066.0   │\n",
              "│ …          ┆ …       ┆ …          ┆ …       ┆ …       ┆ …        │\n",
              "│ 2014-12-01 ┆ 12062.0 ┆ 319746.157 ┆ 7.6     ┆ 12.9    ┆ 8717.0   │\n",
              "│ 2015-01-01 ┆ 12046.0 ┆ 319928.646 ┆ 7.7     ┆ 13.2    ┆ 8903.0   │\n",
              "│ 2015-02-01 ┆ 12082.4 ┆ 320074.511 ┆ 7.9     ┆ 12.9    ┆ 8610.0   │\n",
              "│ 2015-03-01 ┆ 12158.3 ┆ 320230.786 ┆ 7.4     ┆ 12.0    ┆ 8504.0   │\n",
              "│ 2015-04-01 ┆ 12193.8 ┆ 320402.295 ┆ 7.6     ┆ 11.5    ┆ 8526.0   │\n",
              "└────────────┴─────────┴────────────┴─────────┴─────────┴──────────┘"
            ],
            "text/html": [
              "<div><style>\n",
              ".dataframe > thead > tr,\n",
              ".dataframe > tbody > tr {\n",
              "  text-align: right;\n",
              "  white-space: pre-wrap;\n",
              "}\n",
              "</style>\n",
              "<small>shape: (574, 6)</small><table border=\"1\" class=\"dataframe\"><thead><tr><th>date</th><th>pce</th><th>pop</th><th>psavert</th><th>uempmed</th><th>unemploy</th></tr><tr><td>str</td><td>f64</td><td>f64</td><td>f64</td><td>f64</td><td>f64</td></tr></thead><tbody><tr><td>&quot;1967-07-01&quot;</td><td>506.7</td><td>198712.0</td><td>12.6</td><td>4.5</td><td>2944.0</td></tr><tr><td>&quot;1967-08-01&quot;</td><td>509.8</td><td>198911.0</td><td>12.6</td><td>4.7</td><td>2945.0</td></tr><tr><td>&quot;1967-09-01&quot;</td><td>515.6</td><td>199113.0</td><td>11.9</td><td>4.6</td><td>2958.0</td></tr><tr><td>&quot;1967-10-01&quot;</td><td>512.2</td><td>199311.0</td><td>12.9</td><td>4.9</td><td>3143.0</td></tr><tr><td>&quot;1967-11-01&quot;</td><td>517.4</td><td>199498.0</td><td>12.8</td><td>4.7</td><td>3066.0</td></tr><tr><td>&hellip;</td><td>&hellip;</td><td>&hellip;</td><td>&hellip;</td><td>&hellip;</td><td>&hellip;</td></tr><tr><td>&quot;2014-12-01&quot;</td><td>12062.0</td><td>319746.157</td><td>7.6</td><td>12.9</td><td>8717.0</td></tr><tr><td>&quot;2015-01-01&quot;</td><td>12046.0</td><td>319928.646</td><td>7.7</td><td>13.2</td><td>8903.0</td></tr><tr><td>&quot;2015-02-01&quot;</td><td>12082.4</td><td>320074.511</td><td>7.9</td><td>12.9</td><td>8610.0</td></tr><tr><td>&quot;2015-03-01&quot;</td><td>12158.3</td><td>320230.786</td><td>7.4</td><td>12.0</td><td>8504.0</td></tr><tr><td>&quot;2015-04-01&quot;</td><td>12193.8</td><td>320402.295</td><td>7.6</td><td>11.5</td><td>8526.0</td></tr></tbody></table></div>"
            ]
          },
          "metadata": {}
        }
      ],
      "source": [
        "# Load economics_long data\n",
        "economics_long = pl.read_csv(\"https://raw.githubusercontent.com/philhetzel/opan5510-class12/refs/heads/main/data/economics_long.csv\")\n",
        "\n",
        "# YOUR CODE HERE: Pivot the data so that each unique value in 'variable' becomes its own column\n",
        "# Hint: Use the pivot() function\n",
        "# The index should be 'date', columns should come from 'variable', and values from 'value'\n",
        "\n",
        "economics_wide = economics_long.pivot(index=\"date\", columns=\"variable\", values=\"value\")\n",
        "\n",
        "# Display the pivoted dataframe\n",
        "display(economics_wide)"
      ]
    },
    {
      "cell_type": "markdown",
      "metadata": {
        "id": "mLbi5mKjNUDx"
      },
      "source": [
        "## 1b. Calculate median unemployment for 2010-01-01 and beyond\n",
        "\n",
        "Next, compute the median unemployment metric (as defined by `unemploy`) for 2010-01-01 and beyond.\n",
        "\n",
        "**Please write code below. The output should show the median value. You must use the dataframe created in 1a.**"
      ]
    },
    {
      "cell_type": "code",
      "execution_count": 21,
      "metadata": {
        "colab": {
          "base_uri": "https://localhost:8080/"
        },
        "id": "gfVhGB89NUDx",
        "outputId": "7b47c526-4921-4e3a-fe05-ac638c8f361b"
      },
      "outputs": [
        {
          "output_type": "stream",
          "name": "stdout",
          "text": [
            "The median unemployment for 2010-01-01 and beyond is: 12471.0\n"
          ]
        }
      ],
      "source": [
        "# YOUR CODE HERE: Filter for dates >= '2010-01-01' and calculate median unemployment\n",
        "# Hint: You'll need to filter the dataframe and then calculate the median of the 'unemploy' column\n",
        "\n",
        "median_unemploy = economics_wide.filter(pl.col(\"date\") >= \"2010-01-01\").select(pl.col(\"unemploy\").median()).item()\n",
        "\n",
        "print(f\"The median unemployment for 2010-01-01 and beyond is: {median_unemploy}\")"
      ]
    },
    {
      "cell_type": "markdown",
      "metadata": {
        "id": "_KFOvOD1NUDx"
      },
      "source": [
        "### Answer: The median unemployment for 2010-01-01 and beyond is: __________"
      ]
    },
    {
      "cell_type": "markdown",
      "metadata": {
        "id": "V4I_cMmkNUDx"
      },
      "source": [
        "# Question 2: Air Passenger data"
      ]
    },
    {
      "cell_type": "markdown",
      "metadata": {
        "id": "CNuyznfJNUDx"
      },
      "source": [
        "## 2a. Unpivot data\n",
        "\n",
        "The `AirPassengers` dataset is wide, which makes it difficult to aggregate. Transform the `AirPassengers` dataset from wide to long. The resulting dataset should have three columns: one column representing year, one column representing month, and one column representing the number of air passengers.\n",
        "\n",
        "**Please write code below to unpivot the data. The output should be a DataFrame. You must \"unpivot\" the data to receive full credit on this question.**"
      ]
    },
    {
      "cell_type": "code",
      "execution_count": 22,
      "metadata": {
        "id": "IFI4u-qBNUDx",
        "colab": {
          "base_uri": "https://localhost:8080/"
        },
        "outputId": "0d9fcc3a-1771-4a02-c4ea-9eb0013da580"
      },
      "outputs": [
        {
          "output_type": "stream",
          "name": "stdout",
          "text": [
            "Original data shape: (12, 13)\n",
            "\n",
            "First few rows:\n",
            "shape: (5, 13)\n",
            "┌──────┬─────┬─────┬─────┬───┬─────┬─────┬─────┬─────┐\n",
            "│ Year ┆ Jan ┆ Feb ┆ Mar ┆ … ┆ Sep ┆ Oct ┆ Nov ┆ Dec │\n",
            "│ ---  ┆ --- ┆ --- ┆ --- ┆   ┆ --- ┆ --- ┆ --- ┆ --- │\n",
            "│ i64  ┆ i64 ┆ i64 ┆ i64 ┆   ┆ i64 ┆ i64 ┆ i64 ┆ i64 │\n",
            "╞══════╪═════╪═════╪═════╪═══╪═════╪═════╪═════╪═════╡\n",
            "│ 1949 ┆ 112 ┆ 118 ┆ 132 ┆ … ┆ 136 ┆ 119 ┆ 104 ┆ 118 │\n",
            "│ 1950 ┆ 115 ┆ 126 ┆ 141 ┆ … ┆ 158 ┆ 133 ┆ 114 ┆ 140 │\n",
            "│ 1951 ┆ 145 ┆ 150 ┆ 178 ┆ … ┆ 184 ┆ 162 ┆ 146 ┆ 166 │\n",
            "│ 1952 ┆ 171 ┆ 180 ┆ 193 ┆ … ┆ 209 ┆ 191 ┆ 172 ┆ 194 │\n",
            "│ 1953 ┆ 196 ┆ 196 ┆ 236 ┆ … ┆ 237 ┆ 211 ┆ 180 ┆ 201 │\n",
            "└──────┴─────┴─────┴─────┴───┴─────┴─────┴─────┴─────┘\n",
            "\n",
            "Long format air passengers data:\n",
            "shape: (15, 3)\n",
            "┌──────┬───────┬────────────┐\n",
            "│ Year ┆ month ┆ passengers │\n",
            "│ ---  ┆ ---   ┆ ---        │\n",
            "│ i64  ┆ str   ┆ i64        │\n",
            "╞══════╪═══════╪════════════╡\n",
            "│ 1949 ┆ Jan   ┆ 112        │\n",
            "│ 1950 ┆ Jan   ┆ 115        │\n",
            "│ 1951 ┆ Jan   ┆ 145        │\n",
            "│ 1952 ┆ Jan   ┆ 171        │\n",
            "│ 1953 ┆ Jan   ┆ 196        │\n",
            "│ …    ┆ …     ┆ …          │\n",
            "│ 1959 ┆ Jan   ┆ 360        │\n",
            "│ 1960 ┆ Jan   ┆ 417        │\n",
            "│ 1949 ┆ Feb   ┆ 118        │\n",
            "│ 1950 ┆ Feb   ┆ 126        │\n",
            "│ 1951 ┆ Feb   ┆ 150        │\n",
            "└──────┴───────┴────────────┘\n"
          ]
        }
      ],
      "source": [
        "# Load AirPassengers data\n",
        "# Note: You may need to specify separator if it's not comma-separated\n",
        "air_passengers = pl.read_csv(\"https://raw.githubusercontent.com/philhetzel/opan5510-class12/refs/heads/main/data/AirPassengers.txt\", separator=\"\\t\")  # Adjust separator if needed\n",
        "\n",
        "# Display the original data structure\n",
        "print(\"Original data shape:\", air_passengers.shape)\n",
        "print(\"\\nFirst few rows:\")\n",
        "print(air_passengers.head())\n",
        "\n",
        "month_columns = [col for col in air_passengers.columns if col != \"Year\"]\n",
        "\n",
        "air_passengers_long = air_passengers.unpivot(\n",
        "    index=\"Year\",\n",
        "    on=month_columns,\n",
        "    variable_name=\"month\",\n",
        "    value_name=\"passengers\"\n",
        ")\n",
        "air_passengers_long\n",
        "\n",
        "print(\"\\nLong format air passengers data:\")\n",
        "print(air_passengers_long.head(15))"
      ]
    },
    {
      "cell_type": "markdown",
      "metadata": {
        "id": "wlWTppoLNUDy"
      },
      "source": [
        "## 2b. Find the standard deviation between 1955 and 1960\n",
        "\n",
        "Next, compute the standard deviation of passengers between (and including) the years 1955 and 1960.\n",
        "\n",
        "**Please write code below. The output should show the standard deviation. You must use the dataframe created in 2a.**"
      ]
    },
    {
      "cell_type": "code",
      "execution_count": 23,
      "metadata": {
        "id": "Pg_6c9mDNUDy",
        "colab": {
          "base_uri": "https://localhost:8080/"
        },
        "outputId": "75a6a371-cad3-40bc-c9d4-e7e34d02f115"
      },
      "outputs": [
        {
          "output_type": "stream",
          "name": "stdout",
          "text": [
            "The standard deviation of airline passengers between 1955 and 1960 is: 86.44\n"
          ]
        }
      ],
      "source": [
        "std_passengers = air_passengers_long.filter((pl.col(\"Year\") >= 1955) & (pl.col(\"Year\") <= 1960)).select(pl.col(\"passengers\").std()).item()\n",
        "\n",
        "print(f\"The standard deviation of airline passengers between 1955 and 1960 is: {std_passengers:.2f}\")"
      ]
    },
    {
      "cell_type": "markdown",
      "metadata": {
        "id": "PRZDqJyONUDy"
      },
      "source": [
        "### The standard deviation of airline passengers between (and including) the years 1955 and 1960 is: 86.44"
      ]
    },
    {
      "cell_type": "markdown",
      "metadata": {
        "id": "y1C73AmjNUDy"
      },
      "source": [
        "# Question 3: WHO tuberculosis case data"
      ]
    },
    {
      "cell_type": "markdown",
      "metadata": {
        "id": "tkp4BShvNUDy"
      },
      "source": [
        "## 3a. Pivot data\n",
        "\n",
        "Load the `table2.csv` dataset from the `data/` folder. This contains data for country populations and tuberculosis case metrics. You'll notice that the metrics for `cases` and `population` are in the same column (`count`). Pivot the data so that the metrics for `cases` and `population` are in their own columns.\n",
        "\n",
        "**Please write code below to pivot the data. The output should be a DataFrame. You must \"pivot\" the data to receive full credit on this question.**"
      ]
    },
    {
      "cell_type": "code",
      "execution_count": 24,
      "metadata": {
        "id": "lpslKizRNUDy",
        "colab": {
          "base_uri": "https://localhost:8080/",
          "height": 651
        },
        "outputId": "f96a8840-b8bc-456d-efd1-78169f76b514"
      },
      "outputs": [
        {
          "output_type": "stream",
          "name": "stdout",
          "text": [
            "Original data:\n",
            "shape: (12, 5)\n",
            "┌──────────┬─────────────┬──────┬────────────┬────────────┐\n",
            "│ rownames ┆ country     ┆ year ┆ type       ┆ count      │\n",
            "│ ---      ┆ ---         ┆ ---  ┆ ---        ┆ ---        │\n",
            "│ i64      ┆ str         ┆ i64  ┆ str        ┆ i64        │\n",
            "╞══════════╪═════════════╪══════╪════════════╪════════════╡\n",
            "│ 1        ┆ Afghanistan ┆ 1999 ┆ cases      ┆ 745        │\n",
            "│ 2        ┆ Afghanistan ┆ 1999 ┆ population ┆ 19987071   │\n",
            "│ 3        ┆ Afghanistan ┆ 2000 ┆ cases      ┆ 2666       │\n",
            "│ 4        ┆ Afghanistan ┆ 2000 ┆ population ┆ 20595360   │\n",
            "│ 5        ┆ Brazil      ┆ 1999 ┆ cases      ┆ 37737      │\n",
            "│ …        ┆ …           ┆ …    ┆ …          ┆ …          │\n",
            "│ 8        ┆ Brazil      ┆ 2000 ┆ population ┆ 174504898  │\n",
            "│ 9        ┆ China       ┆ 1999 ┆ cases      ┆ 212258     │\n",
            "│ 10       ┆ China       ┆ 1999 ┆ population ┆ 1272915272 │\n",
            "│ 11       ┆ China       ┆ 2000 ┆ cases      ┆ 213766     │\n",
            "│ 12       ┆ China       ┆ 2000 ┆ population ┆ 1280428583 │\n",
            "└──────────┴─────────────┴──────┴────────────┴────────────┘\n",
            "\n",
            "Pivoted table2 data:\n"
          ]
        },
        {
          "output_type": "execute_result",
          "data": {
            "text/plain": [
              "shape: (6, 4)\n",
              "┌─────────────┬──────┬────────┬────────────┐\n",
              "│ country     ┆ year ┆ cases  ┆ population │\n",
              "│ ---         ┆ ---  ┆ ---    ┆ ---        │\n",
              "│ str         ┆ i64  ┆ i64    ┆ i64        │\n",
              "╞═════════════╪══════╪════════╪════════════╡\n",
              "│ Afghanistan ┆ 1999 ┆ 745    ┆ 19987071   │\n",
              "│ Afghanistan ┆ 2000 ┆ 2666   ┆ 20595360   │\n",
              "│ Brazil      ┆ 1999 ┆ 37737  ┆ 172006362  │\n",
              "│ Brazil      ┆ 2000 ┆ 80488  ┆ 174504898  │\n",
              "│ China       ┆ 1999 ┆ 212258 ┆ 1272915272 │\n",
              "│ China       ┆ 2000 ┆ 213766 ┆ 1280428583 │\n",
              "└─────────────┴──────┴────────┴────────────┘"
            ],
            "text/html": [
              "<div><style>\n",
              ".dataframe > thead > tr,\n",
              ".dataframe > tbody > tr {\n",
              "  text-align: right;\n",
              "  white-space: pre-wrap;\n",
              "}\n",
              "</style>\n",
              "<small>shape: (6, 4)</small><table border=\"1\" class=\"dataframe\"><thead><tr><th>country</th><th>year</th><th>cases</th><th>population</th></tr><tr><td>str</td><td>i64</td><td>i64</td><td>i64</td></tr></thead><tbody><tr><td>&quot;Afghanistan&quot;</td><td>1999</td><td>745</td><td>19987071</td></tr><tr><td>&quot;Afghanistan&quot;</td><td>2000</td><td>2666</td><td>20595360</td></tr><tr><td>&quot;Brazil&quot;</td><td>1999</td><td>37737</td><td>172006362</td></tr><tr><td>&quot;Brazil&quot;</td><td>2000</td><td>80488</td><td>174504898</td></tr><tr><td>&quot;China&quot;</td><td>1999</td><td>212258</td><td>1272915272</td></tr><tr><td>&quot;China&quot;</td><td>2000</td><td>213766</td><td>1280428583</td></tr></tbody></table></div>"
            ]
          },
          "metadata": {},
          "execution_count": 24
        }
      ],
      "source": [
        "# Load table2 data\n",
        "table2 = pl.read_csv(\"https://raw.githubusercontent.com/philhetzel/opan5510-class12/refs/heads/main/data/table2.csv\")\n",
        "\n",
        "# Display the original data structure\n",
        "print(\"Original data:\")\n",
        "print(table2)\n",
        "\n",
        "table2_wide = table2.pivot(\n",
        "    index=[\"country\", \"year\"],\n",
        "    on=\"type\",\n",
        "    values=\"count\"\n",
        ")\n",
        "\n",
        "# Display the pivoted dataframe\n",
        "print(\"\\nPivoted table2 data:\")\n",
        "\n",
        "# Display the pivoted dataframe\n",
        "table2_wide"
      ]
    },
    {
      "cell_type": "markdown",
      "metadata": {
        "id": "9iJ22z3ANUDy"
      },
      "source": [
        "## 3b. Calculate highest cases/population ratio for 1999\n",
        "\n",
        "Now that you have `cases` and `population` in their own columns, you can perform analysis. Create a new column in this dataset called `ratio` that divides `cases` by `population`. Next, filter the data to only include rows from the `year` of 1999. What is the country with the highest `cases`/`population` ratio?\n",
        "\n",
        "**Please write code below. You must use the dataframe created in 3a.**"
      ]
    },
    {
      "cell_type": "code",
      "execution_count": 25,
      "metadata": {
        "id": "M6Esw6IkNUDy",
        "colab": {
          "base_uri": "https://localhost:8080/"
        },
        "outputId": "6857d56f-23f1-4e5d-a077-20bc67b92663"
      },
      "outputs": [
        {
          "output_type": "stream",
          "name": "stdout",
          "text": [
            "Data for 1999 with ratios:\n",
            "shape: (3, 5)\n",
            "┌─────────────┬──────┬────────┬────────────┬──────────┐\n",
            "│ country     ┆ year ┆ cases  ┆ population ┆ ratio    │\n",
            "│ ---         ┆ ---  ┆ ---    ┆ ---        ┆ ---      │\n",
            "│ str         ┆ i64  ┆ i64    ┆ i64        ┆ f64      │\n",
            "╞═════════════╪══════╪════════╪════════════╪══════════╡\n",
            "│ Afghanistan ┆ 1999 ┆ 745    ┆ 19987071   ┆ 0.000037 │\n",
            "│ Brazil      ┆ 1999 ┆ 37737  ┆ 172006362  ┆ 0.000219 │\n",
            "│ China       ┆ 1999 ┆ 212258 ┆ 1272915272 ┆ 0.000167 │\n",
            "└─────────────┴──────┴────────┴────────────┴──────────┘\n",
            "\n",
            "The country with the highest cases/population ratio in 1999 is: Brazil\n"
          ]
        }
      ],
      "source": [
        "\n",
        "table2_with_ratio = table2_wide.with_columns(\n",
        "    (pl.col(\"cases\") / pl.col(\"population\")).alias(\"ratio\")\n",
        ")\n",
        "\n",
        "# Filter for 1999 and find highest ratio\n",
        "year_1999 = table2_with_ratio.filter(pl.col(\"year\") == 1999)\n",
        "\n",
        "# Find country with highest ratio\n",
        "highest_ratio_country = (\n",
        "    year_1999\n",
        "    .sort(\"ratio\", descending=True)\n",
        "    .select(\"country\")\n",
        "    .item(0, 0)\n",
        ")\n",
        "\n",
        "print(\"Data for 1999 with ratios:\")\n",
        "print(year_1999)\n",
        "print(f\"\\nThe country with the highest cases/population ratio in 1999 is: {highest_ratio_country}\")"
      ]
    },
    {
      "cell_type": "markdown",
      "metadata": {
        "id": "e1L1V9oGNUDy"
      },
      "source": [
        "### Answer: The country with the highest cases/population ratio in 1999 is: Brazil"
      ]
    },
    {
      "cell_type": "markdown",
      "metadata": {
        "id": "4718wgRuNUDy"
      },
      "source": [
        "## Submission Instructions\n",
        "\n",
        "1. Complete all code cells above\n",
        "2. Run all cells to ensure they execute without errors\n",
        "3. Fill in the answer blanks with your computed values\n",
        "4. Save and submit your completed notebook"
      ]
    }
  ],
  "metadata": {
    "kernelspec": {
      "display_name": "Python 3",
      "language": "python",
      "name": "python3"
    },
    "language_info": {
      "codemirror_mode": {
        "name": "ipython",
        "version": 3
      },
      "file_extension": ".py",
      "mimetype": "text/x-python",
      "name": "python",
      "nbconvert_exporter": "python",
      "pygments_lexer": "ipython3",
      "version": "3.9.0"
    },
    "colab": {
      "provenance": []
    }
  },
  "nbformat": 4,
  "nbformat_minor": 0
}